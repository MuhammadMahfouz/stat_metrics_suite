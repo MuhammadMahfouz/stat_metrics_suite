{
 "cells": [
  {
   "cell_type": "markdown",
   "id": "bd34d423-a281-4832-9369-b62a62fa5c2c",
   "metadata": {},
   "source": [
    "## 1. Import Necessary Libraries"
   ]
  },
  {
   "cell_type": "code",
   "execution_count": 1,
   "id": "3a4c2450-c700-4fb8-b663-abcaab742264",
   "metadata": {},
   "outputs": [],
   "source": [
    "import numpy as np\n",
    "\n",
    "import pandas as pd\n",
    "pd.options.mode.chained_assignment = None\n",
    "# Turn the warning back on (optional): pd.options.mode.chained_assignment = 'warn'\n",
    "\n",
    "import statsmodels.api as sm\n",
    "\n",
    "import matplotlib.pyplot as plt\n",
    "\n",
    "import seaborn as sns\n",
    "sns.set()"
   ]
  },
  {
   "cell_type": "markdown",
   "id": "8311c634-28a6-46fd-917b-75e6d132b2a8",
   "metadata": {},
   "source": [
    "## 2. Load the data"
   ]
  },
  {
   "cell_type": "code",
   "execution_count": 2,
   "id": "00dc7b3f-0da6-4025-a09d-9c31b5d95715",
   "metadata": {},
   "outputs": [
    {
     "data": {
      "text/html": [
       "<div>\n",
       "<style scoped>\n",
       "    .dataframe tbody tr th:only-of-type {\n",
       "        vertical-align: middle;\n",
       "    }\n",
       "\n",
       "    .dataframe tbody tr th {\n",
       "        vertical-align: top;\n",
       "    }\n",
       "\n",
       "    .dataframe thead th {\n",
       "        text-align: right;\n",
       "    }\n",
       "</style>\n",
       "<table border=\"1\" class=\"dataframe\">\n",
       "  <thead>\n",
       "    <tr style=\"text-align: right;\">\n",
       "      <th></th>\n",
       "      <th>Price</th>\n",
       "      <th>Resid_area</th>\n",
       "      <th>Air_qual</th>\n",
       "      <th>Num_rooms</th>\n",
       "      <th>Age</th>\n",
       "      <th>Teachers</th>\n",
       "      <th>Poor_prop</th>\n",
       "      <th>N_hos_beds</th>\n",
       "      <th>N_hot_rooms</th>\n",
       "      <th>Rainfall</th>\n",
       "      <th>Parks</th>\n",
       "      <th>Airport</th>\n",
       "      <th>Sold</th>\n",
       "    </tr>\n",
       "  </thead>\n",
       "  <tbody>\n",
       "    <tr>\n",
       "      <th>0</th>\n",
       "      <td>24.0</td>\n",
       "      <td>32.31</td>\n",
       "      <td>0.538</td>\n",
       "      <td>6.575</td>\n",
       "      <td>65.2</td>\n",
       "      <td>24.7</td>\n",
       "      <td>4.98</td>\n",
       "      <td>5.480</td>\n",
       "      <td>11.1920</td>\n",
       "      <td>23</td>\n",
       "      <td>0.049347</td>\n",
       "      <td>Yes</td>\n",
       "      <td>0</td>\n",
       "    </tr>\n",
       "    <tr>\n",
       "      <th>1</th>\n",
       "      <td>21.6</td>\n",
       "      <td>37.07</td>\n",
       "      <td>0.469</td>\n",
       "      <td>6.421</td>\n",
       "      <td>78.9</td>\n",
       "      <td>22.2</td>\n",
       "      <td>9.14</td>\n",
       "      <td>7.332</td>\n",
       "      <td>12.1728</td>\n",
       "      <td>42</td>\n",
       "      <td>0.046146</td>\n",
       "      <td>No</td>\n",
       "      <td>1</td>\n",
       "    </tr>\n",
       "    <tr>\n",
       "      <th>2</th>\n",
       "      <td>34.7</td>\n",
       "      <td>37.07</td>\n",
       "      <td>0.469</td>\n",
       "      <td>7.185</td>\n",
       "      <td>61.1</td>\n",
       "      <td>22.2</td>\n",
       "      <td>4.03</td>\n",
       "      <td>7.394</td>\n",
       "      <td>101.1200</td>\n",
       "      <td>38</td>\n",
       "      <td>0.045764</td>\n",
       "      <td>No</td>\n",
       "      <td>0</td>\n",
       "    </tr>\n",
       "    <tr>\n",
       "      <th>3</th>\n",
       "      <td>33.4</td>\n",
       "      <td>32.18</td>\n",
       "      <td>0.458</td>\n",
       "      <td>6.998</td>\n",
       "      <td>45.8</td>\n",
       "      <td>21.3</td>\n",
       "      <td>2.94</td>\n",
       "      <td>9.268</td>\n",
       "      <td>11.2672</td>\n",
       "      <td>45</td>\n",
       "      <td>0.047151</td>\n",
       "      <td>Yes</td>\n",
       "      <td>0</td>\n",
       "    </tr>\n",
       "    <tr>\n",
       "      <th>4</th>\n",
       "      <td>36.2</td>\n",
       "      <td>32.18</td>\n",
       "      <td>0.458</td>\n",
       "      <td>7.147</td>\n",
       "      <td>54.2</td>\n",
       "      <td>21.3</td>\n",
       "      <td>5.33</td>\n",
       "      <td>8.824</td>\n",
       "      <td>11.2896</td>\n",
       "      <td>55</td>\n",
       "      <td>0.039474</td>\n",
       "      <td>No</td>\n",
       "      <td>0</td>\n",
       "    </tr>\n",
       "  </tbody>\n",
       "</table>\n",
       "</div>"
      ],
      "text/plain": [
       "   Price  Resid_area  Air_qual  Num_rooms   Age  Teachers  Poor_prop  \\\n",
       "0   24.0       32.31     0.538      6.575  65.2      24.7       4.98   \n",
       "1   21.6       37.07     0.469      6.421  78.9      22.2       9.14   \n",
       "2   34.7       37.07     0.469      7.185  61.1      22.2       4.03   \n",
       "3   33.4       32.18     0.458      6.998  45.8      21.3       2.94   \n",
       "4   36.2       32.18     0.458      7.147  54.2      21.3       5.33   \n",
       "\n",
       "   N_hos_beds  N_hot_rooms  Rainfall     Parks Airport  Sold  \n",
       "0       5.480      11.1920        23  0.049347     Yes     0  \n",
       "1       7.332      12.1728        42  0.046146      No     1  \n",
       "2       7.394     101.1200        38  0.045764      No     0  \n",
       "3       9.268      11.2672        45  0.047151     Yes     0  \n",
       "4       8.824      11.2896        55  0.039474      No     0  "
      ]
     },
     "execution_count": 2,
     "metadata": {},
     "output_type": "execute_result"
    }
   ],
   "source": [
    "# Read the dataset\n",
    "raw_data = pd.read_csv(\"data/TrustProperty.csv\")\n",
    "\n",
    "# Display the first few rows\n",
    "raw_data.head()"
   ]
  },
  {
   "cell_type": "markdown",
   "id": "925f1a90-b80a-421a-8750-f84869bdd5d5",
   "metadata": {},
   "source": [
    "## 3. Declare the target and the independent variables\n",
    "\n",
    "After talking with stalkholders we thing that the following features are the most important so we will start with them:\n",
    "- Price\n",
    "- Num_rooms\n",
    "- Poor_prop\n",
    "- Teachers\n",
    "- N_hos_beds\n",
    "\n",
    "And our target is the following:\n",
    "- Sold"
   ]
  },
  {
   "cell_type": "code",
   "execution_count": 3,
   "id": "15788b06-22e3-4fc0-b5df-10146a5f9302",
   "metadata": {},
   "outputs": [],
   "source": [
    "# copy the data\n",
    "data = raw_data.copy()"
   ]
  },
  {
   "cell_type": "code",
   "execution_count": 4,
   "id": "f727f2c6-7577-4778-8387-cf293041e032",
   "metadata": {},
   "outputs": [
    {
     "data": {
      "text/plain": [
       "Index(['Price', 'Resid_area', 'Air_qual', 'Num_rooms', 'Age', 'Teachers',\n",
       "       'Poor_prop', 'N_hos_beds', 'N_hot_rooms', 'Rainfall', 'Parks',\n",
       "       'Airport', 'Sold'],\n",
       "      dtype='object')"
      ]
     },
     "execution_count": 4,
     "metadata": {},
     "output_type": "execute_result"
    }
   ],
   "source": [
    "data.columns"
   ]
  },
  {
   "cell_type": "code",
   "execution_count": 5,
   "id": "13ffd94e-21a7-4033-8e65-1f677f2eb867",
   "metadata": {},
   "outputs": [
    {
     "data": {
      "text/html": [
       "<div>\n",
       "<style scoped>\n",
       "    .dataframe tbody tr th:only-of-type {\n",
       "        vertical-align: middle;\n",
       "    }\n",
       "\n",
       "    .dataframe tbody tr th {\n",
       "        vertical-align: top;\n",
       "    }\n",
       "\n",
       "    .dataframe thead th {\n",
       "        text-align: right;\n",
       "    }\n",
       "</style>\n",
       "<table border=\"1\" class=\"dataframe\">\n",
       "  <thead>\n",
       "    <tr style=\"text-align: right;\">\n",
       "      <th></th>\n",
       "      <th>Price</th>\n",
       "      <th>Num_rooms</th>\n",
       "      <th>Teachers</th>\n",
       "      <th>Poor_prop</th>\n",
       "      <th>N_hos_beds</th>\n",
       "      <th>Sold</th>\n",
       "    </tr>\n",
       "  </thead>\n",
       "  <tbody>\n",
       "    <tr>\n",
       "      <th>0</th>\n",
       "      <td>24.0</td>\n",
       "      <td>6.575</td>\n",
       "      <td>24.7</td>\n",
       "      <td>4.98</td>\n",
       "      <td>5.480</td>\n",
       "      <td>0</td>\n",
       "    </tr>\n",
       "    <tr>\n",
       "      <th>1</th>\n",
       "      <td>21.6</td>\n",
       "      <td>6.421</td>\n",
       "      <td>22.2</td>\n",
       "      <td>9.14</td>\n",
       "      <td>7.332</td>\n",
       "      <td>1</td>\n",
       "    </tr>\n",
       "    <tr>\n",
       "      <th>2</th>\n",
       "      <td>34.7</td>\n",
       "      <td>7.185</td>\n",
       "      <td>22.2</td>\n",
       "      <td>4.03</td>\n",
       "      <td>7.394</td>\n",
       "      <td>0</td>\n",
       "    </tr>\n",
       "    <tr>\n",
       "      <th>3</th>\n",
       "      <td>33.4</td>\n",
       "      <td>6.998</td>\n",
       "      <td>21.3</td>\n",
       "      <td>2.94</td>\n",
       "      <td>9.268</td>\n",
       "      <td>0</td>\n",
       "    </tr>\n",
       "    <tr>\n",
       "      <th>4</th>\n",
       "      <td>36.2</td>\n",
       "      <td>7.147</td>\n",
       "      <td>21.3</td>\n",
       "      <td>5.33</td>\n",
       "      <td>8.824</td>\n",
       "      <td>0</td>\n",
       "    </tr>\n",
       "  </tbody>\n",
       "</table>\n",
       "</div>"
      ],
      "text/plain": [
       "   Price  Num_rooms  Teachers  Poor_prop  N_hos_beds  Sold\n",
       "0   24.0      6.575      24.7       4.98       5.480     0\n",
       "1   21.6      6.421      22.2       9.14       7.332     1\n",
       "2   34.7      7.185      22.2       4.03       7.394     0\n",
       "3   33.4      6.998      21.3       2.94       9.268     0\n",
       "4   36.2      7.147      21.3       5.33       8.824     0"
      ]
     },
     "execution_count": 5,
     "metadata": {},
     "output_type": "execute_result"
    }
   ],
   "source": [
    "# Define a subset of columns for analysis\n",
    "selected_cols = ['Price', 'Num_rooms', 'Teachers', 'Poor_prop', 'N_hos_beds', 'Sold']\n",
    "\n",
    "# Create a DataFrame 'data_new' to include only these selected columns for further processing.\n",
    "data_new = data[selected_cols]\n",
    "\n",
    "# Display the first few rows\n",
    "data_new.head()"
   ]
  },
  {
   "cell_type": "code",
   "execution_count": 6,
   "id": "b15bbf30-04b8-4d8f-aa41-f4f85987143c",
   "metadata": {},
   "outputs": [],
   "source": [
    "# Target Variable\n",
    "y = data_new[\"Sold\"]\n",
    "\n",
    "# Independent Variables (Features)\n",
    "x1 = data_new.drop(columns=[\"Sold\"])"
   ]
  },
  {
   "cell_type": "markdown",
   "id": "cf1af645-4fc4-4705-8169-76bfbbc8e53a",
   "metadata": {},
   "source": [
    "## 4. Build Simple Logistic Regression Model"
   ]
  },
  {
   "cell_type": "code",
   "execution_count": 7,
   "id": "f37e74d6-b692-452b-92c0-cb8902811824",
   "metadata": {},
   "outputs": [
    {
     "name": "stdout",
     "output_type": "stream",
     "text": [
      "Optimization terminated successfully.\n",
      "         Current function value: 0.589436\n",
      "         Iterations 6\n"
     ]
    },
    {
     "data": {
      "text/html": [
       "<table class=\"simpletable\">\n",
       "<caption>Logit Regression Results</caption>\n",
       "<tr>\n",
       "  <th>Dep. Variable:</th>         <td>Sold</td>       <th>  No. Observations:  </th>  <td>   300</td>  \n",
       "</tr>\n",
       "<tr>\n",
       "  <th>Model:</th>                 <td>Logit</td>      <th>  Df Residuals:      </th>  <td>   294</td>  \n",
       "</tr>\n",
       "<tr>\n",
       "  <th>Method:</th>                 <td>MLE</td>       <th>  Df Model:          </th>  <td>     5</td>  \n",
       "</tr>\n",
       "<tr>\n",
       "  <th>Date:</th>            <td>Sun, 06 Oct 2024</td> <th>  Pseudo R-squ.:     </th>  <td>0.1442</td>  \n",
       "</tr>\n",
       "<tr>\n",
       "  <th>Time:</th>                <td>01:56:02</td>     <th>  Log-Likelihood:    </th> <td> -176.83</td> \n",
       "</tr>\n",
       "<tr>\n",
       "  <th>converged:</th>             <td>True</td>       <th>  LL-Null:           </th> <td> -206.64</td> \n",
       "</tr>\n",
       "<tr>\n",
       "  <th>Covariance Type:</th>     <td>nonrobust</td>    <th>  LLR p-value:       </th> <td>1.464e-11</td>\n",
       "</tr>\n",
       "</table>\n",
       "<table class=\"simpletable\">\n",
       "<tr>\n",
       "       <td></td>         <th>coef</th>     <th>std err</th>      <th>z</th>      <th>P>|z|</th>  <th>[0.025</th>    <th>0.975]</th>  \n",
       "</tr>\n",
       "<tr>\n",
       "  <th>const</th>      <td>   -8.8004</td> <td>    3.024</td> <td>   -2.910</td> <td> 0.004</td> <td>  -14.728</td> <td>   -2.873</td>\n",
       "</tr>\n",
       "<tr>\n",
       "  <th>Price</th>      <td>   -0.2689</td> <td>    0.047</td> <td>   -5.707</td> <td> 0.000</td> <td>   -0.361</td> <td>   -0.177</td>\n",
       "</tr>\n",
       "<tr>\n",
       "  <th>Num_rooms</th>  <td>    1.4528</td> <td>    0.472</td> <td>    3.076</td> <td> 0.002</td> <td>    0.527</td> <td>    2.378</td>\n",
       "</tr>\n",
       "<tr>\n",
       "  <th>Teachers</th>   <td>    0.2728</td> <td>    0.067</td> <td>    4.044</td> <td> 0.000</td> <td>    0.141</td> <td>    0.405</td>\n",
       "</tr>\n",
       "<tr>\n",
       "  <th>Poor_prop</th>  <td>   -0.1569</td> <td>    0.034</td> <td>   -4.549</td> <td> 0.000</td> <td>   -0.224</td> <td>   -0.089</td>\n",
       "</tr>\n",
       "<tr>\n",
       "  <th>N_hos_beds</th> <td>    0.2069</td> <td>    0.082</td> <td>    2.520</td> <td> 0.012</td> <td>    0.046</td> <td>    0.368</td>\n",
       "</tr>\n",
       "</table>"
      ],
      "text/plain": [
       "<class 'statsmodels.iolib.summary.Summary'>\n",
       "\"\"\"\n",
       "                           Logit Regression Results                           \n",
       "==============================================================================\n",
       "Dep. Variable:                   Sold   No. Observations:                  300\n",
       "Model:                          Logit   Df Residuals:                      294\n",
       "Method:                           MLE   Df Model:                            5\n",
       "Date:                Sun, 06 Oct 2024   Pseudo R-squ.:                  0.1442\n",
       "Time:                        01:56:02   Log-Likelihood:                -176.83\n",
       "converged:                       True   LL-Null:                       -206.64\n",
       "Covariance Type:            nonrobust   LLR p-value:                 1.464e-11\n",
       "==============================================================================\n",
       "                 coef    std err          z      P>|z|      [0.025      0.975]\n",
       "------------------------------------------------------------------------------\n",
       "const         -8.8004      3.024     -2.910      0.004     -14.728      -2.873\n",
       "Price         -0.2689      0.047     -5.707      0.000      -0.361      -0.177\n",
       "Num_rooms      1.4528      0.472      3.076      0.002       0.527       2.378\n",
       "Teachers       0.2728      0.067      4.044      0.000       0.141       0.405\n",
       "Poor_prop     -0.1569      0.034     -4.549      0.000      -0.224      -0.089\n",
       "N_hos_beds     0.2069      0.082      2.520      0.012       0.046       0.368\n",
       "==============================================================================\n",
       "\"\"\""
      ]
     },
     "execution_count": 7,
     "metadata": {},
     "output_type": "execute_result"
    }
   ],
   "source": [
    "# Add constant array of ones\n",
    "x = sm.add_constant(x1)\n",
    "\n",
    "# Intialize the model\n",
    "log_reg_model = sm.Logit(y, x)\n",
    "\n",
    "# Fit the model\n",
    "results_log = log_reg_model.fit()\n",
    "\n",
    "# Display the summary table\n",
    "results_log.summary()"
   ]
  },
  {
   "cell_type": "markdown",
   "id": "d98497b5-fc62-4dd9-a4f2-6d64b9672df4",
   "metadata": {},
   "source": [
    "## 5. Evaluate the model"
   ]
  },
  {
   "cell_type": "code",
   "execution_count": 8,
   "id": "cf45c6f8-7e0d-4ffb-888e-45f291fa3e68",
   "metadata": {},
   "outputs": [
    {
     "data": {
      "text/plain": [
       "array([[117.,  47.],\n",
       "       [ 51.,  85.]])"
      ]
     },
     "execution_count": 8,
     "metadata": {},
     "output_type": "execute_result"
    }
   ],
   "source": [
    "# Display the confussion matrix using pred_table() method\n",
    "results_log.pred_table()"
   ]
  },
  {
   "cell_type": "code",
   "execution_count": 9,
   "id": "5a576758-dd83-414d-b68b-607a86538746",
   "metadata": {},
   "outputs": [
    {
     "data": {
      "text/html": [
       "<div>\n",
       "<style scoped>\n",
       "    .dataframe tbody tr th:only-of-type {\n",
       "        vertical-align: middle;\n",
       "    }\n",
       "\n",
       "    .dataframe tbody tr th {\n",
       "        vertical-align: top;\n",
       "    }\n",
       "\n",
       "    .dataframe thead th {\n",
       "        text-align: right;\n",
       "    }\n",
       "</style>\n",
       "<table border=\"1\" class=\"dataframe\">\n",
       "  <thead>\n",
       "    <tr style=\"text-align: right;\">\n",
       "      <th></th>\n",
       "      <th>Predicted_0</th>\n",
       "      <th>Predicted_1</th>\n",
       "    </tr>\n",
       "  </thead>\n",
       "  <tbody>\n",
       "    <tr>\n",
       "      <th>Actual_0</th>\n",
       "      <td>117.0</td>\n",
       "      <td>47.0</td>\n",
       "    </tr>\n",
       "    <tr>\n",
       "      <th>Actual_1</th>\n",
       "      <td>51.0</td>\n",
       "      <td>85.0</td>\n",
       "    </tr>\n",
       "  </tbody>\n",
       "</table>\n",
       "</div>"
      ],
      "text/plain": [
       "          Predicted_0  Predicted_1\n",
       "Actual_0        117.0         47.0\n",
       "Actual_1         51.0         85.0"
      ]
     },
     "execution_count": 9,
     "metadata": {},
     "output_type": "execute_result"
    }
   ],
   "source": [
    "# Some neat formatting to read the confusion matrix\n",
    "cm_df = pd.DataFrame(results_log.pred_table())\n",
    "\n",
    "# Rename the columns\n",
    "cm_df.columns = [\"Predicted_0\", \"Predicted_1\"]\n",
    "\n",
    "# Rename the indexes\n",
    "cm_df.rename(index={0: \"Actual_0\", 1: \"Actual_1\"}, inplace=True)\n",
    "\n",
    "# Display the confusion matrix\n",
    "cm_df"
   ]
  },
  {
   "cell_type": "markdown",
   "id": "c149269a-3f74-4020-aae2-f707265d8a0d",
   "metadata": {},
   "source": [
    "### Calculating Accuracy:\n",
    "$$\n",
    "\\text{Accuracy} = \\frac{TP + TN}{TP + TN + FP + FN}\n",
    "$$\n",
    "\n",
    "Where:\n",
    "\n",
    "- TP = True Positives\n",
    "- TN = True Negatives\n",
    "- FP = False Positives\n",
    "- FN = False Negatives"
   ]
  },
  {
   "cell_type": "code",
   "execution_count": 10,
   "id": "b4702148-daa8-44a6-adca-71d53004806b",
   "metadata": {},
   "outputs": [
    {
     "data": {
      "text/plain": [
       "67.33333333333333"
      ]
     },
     "execution_count": 10,
     "metadata": {},
     "output_type": "execute_result"
    }
   ],
   "source": [
    "cm_array = np.array(cm_df)\n",
    "accuracy = ((cm_array[0, 0] + cm_array[1, 1]) / cm_array.sum()) * 100\n",
    "accuracy"
   ]
  },
  {
   "cell_type": "markdown",
   "id": "aa915a20-0b6c-44f8-b046-123635da5a66",
   "metadata": {},
   "source": [
    "Or we can use the following function to calculate both the `confusion matrix`, and the `accuracy`."
   ]
  },
  {
   "cell_type": "code",
   "execution_count": 11,
   "id": "86ce1586-dcf5-47bc-ae73-6c778f46f7c9",
   "metadata": {},
   "outputs": [],
   "source": [
    "def confusion_matrix(data,actual_values,model):\n",
    "        \n",
    "        # Confusion matrix \n",
    "        \n",
    "        # Parameters\n",
    "        # ----------\n",
    "        # data: data frame or array\n",
    "            # data is a data frame formatted in the same way as your input data (without the actual values)\n",
    "            # e.g. const, var1, var2, etc. Order is very important!\n",
    "        # actual_values: data frame or array\n",
    "            # These are the actual values from the test_data\n",
    "            # In the case of a logistic regression, it should be a single column with 0s and 1s\n",
    "            \n",
    "        # model: a LogitResults object\n",
    "            # this is the variable where you have the fitted model \n",
    "            # e.g. results_log in this course\n",
    "        # ----------\n",
    "        \n",
    "        #Predict the values using the Logit model\n",
    "        pred_values = model.predict(data)\n",
    "    \n",
    "        # Specify the bins \n",
    "        bins=np.array([0,0.5,1])\n",
    "    \n",
    "        # Create a histogram, where if values are between 0 and 0.5 tell will be considered 0\n",
    "        # if they are between 0.5 and 1, they will be considered 1\n",
    "        cm = np.histogram2d(actual_values, pred_values, bins=bins)[0]\n",
    "    \n",
    "        # Calculate the accuracy\n",
    "        accuracy = (cm[0,0]+cm[1,1])/cm.sum()\n",
    "    \n",
    "        # Return the confusion matrix and \n",
    "        return cm, accuracy"
   ]
  },
  {
   "cell_type": "code",
   "execution_count": 21,
   "id": "70b9e959-706b-4ee8-9b60-b303ebded037",
   "metadata": {},
   "outputs": [
    {
     "name": "stdout",
     "output_type": "stream",
     "text": [
      "Confusion Matrix:\n",
      "[[117.  47.]\n",
      " [ 51.  85.]]\n",
      "\n",
      "Accuracy: 67.33333333333333\n",
      "\n"
     ]
    }
   ],
   "source": [
    "cm, accuracy = confusion_matrix(x, y, results_log)\n",
    "print(f'Confusion Matrix:\\n{cm}\\n')\n",
    "print(f'Accuracy: {accuracy*100}\\n')"
   ]
  },
  {
   "cell_type": "code",
   "execution_count": 19,
   "id": "2df422af-32cd-4d94-a603-0af6a8eef610",
   "metadata": {},
   "outputs": [],
   "source": [
    "def plot_confusion_matrix(cm):\n",
    "    # Plot the confusion matrix using seaborn heatmap\n",
    "    plt.figure(figsize=(6, 4))\n",
    "    sns.heatmap(cm, annot=True, fmt='g', cmap='Blues', cbar=False,\n",
    "                xticklabels=['Predicted 0', 'Predicted 1'],\n",
    "                yticklabels=['Actual 0', 'Actual 1'])\n",
    "    plt.xlabel('Predicted')\n",
    "    plt.ylabel('Actual')\n",
    "    plt.title('Confusion Matrix')\n",
    "    plt.show()"
   ]
  },
  {
   "cell_type": "code",
   "execution_count": 20,
   "id": "65506459-7189-467f-aedd-ee1aa82fbe72",
   "metadata": {},
   "outputs": [
    {
     "data": {
      "image/png": "[encoded data removed]",
      "text/plain": [
       "<Figure size 600x400 with 1 Axes>"
      ]
     },
     "metadata": {},
     "output_type": "display_data"
    }
   ],
   "source": [
    "plot_confusion_matrix(cm)"
   ]
  },
  {
   "cell_type": "code",
   "execution_count": null,
   "id": "56d0900b-d8c3-46f0-b1d9-35a3ee822f94",
   "metadata": {},
   "outputs": [],
   "source": []
  }
 ],
 "metadata": {
  "kernelspec": {
   "display_name": "Python 3 (ipykernel)",
   "language": "python",
   "name": "python3"
  },
  "language_info": {
   "codemirror_mode": {
    "name": "ipython",
    "version": 3
   },
   "file_extension": ".py",
   "mimetype": "text/x-python",
   "name": "python",
   "nbconvert_exporter": "python",
   "pygments_lexer": "ipython3",
   "version": "3.11.3"
  }
 },
 "nbformat": 4,
 "nbformat_minor": 5
}
